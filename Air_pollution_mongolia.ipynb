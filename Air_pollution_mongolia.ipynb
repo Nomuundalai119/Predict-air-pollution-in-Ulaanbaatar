{
 "cells": [
  {
   "cell_type": "markdown",
   "metadata": {
    "id": "7KQ0OZTuEeeW"
   },
   "source": []
  },
  {
   "cell_type": "markdown",
   "metadata": {
    "id": "uT8LP0APEgUl"
   },
   "source": [
    "# PSET 5 - TABULAR MODELLING"
   ]
  },
  {
   "cell_type": "markdown",
   "metadata": {
    "id": "zbNqfvlhFKC1"
   },
   "source": [
    "## Load & import packages"
   ]
  },
  {
   "cell_type": "code",
   "execution_count": 1,
   "metadata": {
    "colab": {
     "base_uri": "https://localhost:8080/"
    },
    "executionInfo": {
     "elapsed": 130543,
     "status": "ok",
     "timestamp": 1619185824690,
     "user": {
      "displayName": "Nomuundalai Bat-Erdene",
      "photoUrl": "https://lh3.googleusercontent.com/a-/AOh14GjTrVVyaWMe-afuUQZ9ZkEfuWeyOU3LSoI-6_gzLR4=s64",
      "userId": "12706177033927725173"
     },
     "user_tz": -480
    },
    "id": "UTfQdcFREkZz",
    "outputId": "c41388ee-1dc3-465f-a46b-d3293d9cb02f"
   },
   "outputs": [
    {
     "name": "stdout",
     "output_type": "stream",
     "text": [
      "\u001b[K     |████████████████████████████████| 194kB 14.3MB/s eta 0:00:01\n",
      "\u001b[K     |████████████████████████████████| 61kB 6.0MB/s \n",
      "\u001b[K     |████████████████████████████████| 776.8MB 27kB/s \n",
      "\u001b[K     |████████████████████████████████| 12.8MB 34.9MB/s \n",
      "\u001b[31mERROR: torchtext 0.9.1 has requirement torch==1.8.1, but you'll have torch 1.7.1 which is incompatible.\u001b[0m\n",
      "\u001b[?25h"
     ]
    }
   ],
   "source": [
    "!pip install -Uqq fastai --upgrade\n",
    "!pip install -Uqq fastcore --upgrade\n",
    "!pip install -Uqq kaggle --upgrade"
   ]
  },
  {
   "cell_type": "code",
   "execution_count": 2,
   "metadata": {
    "colab": {
     "base_uri": "https://localhost:8080/"
    },
    "executionInfo": {
     "elapsed": 130093,
     "status": "ok",
     "timestamp": 1619185824691,
     "user": {
      "displayName": "Nomuundalai Bat-Erdene",
      "photoUrl": "https://lh3.googleusercontent.com/a-/AOh14GjTrVVyaWMe-afuUQZ9ZkEfuWeyOU3LSoI-6_gzLR4=s64",
      "userId": "12706177033927725173"
     },
     "user_tz": -480
    },
    "id": "eoLNMGnMFSsU",
    "outputId": "997eaed7-3de1-4091-cbff-841dbe7ee767"
   },
   "outputs": [
    {
     "name": "stdout",
     "output_type": "stream",
     "text": [
      "Fast.ai version: 2.3.0\n",
      "Fastcore version: 1.3.19\n"
     ]
    }
   ],
   "source": [
    "import fastai\n",
    "import fastcore\n",
    "print('Fast.ai version:', fastai.__version__)\n",
    "print('Fastcore version:', fastcore.__version__)"
   ]
  },
  {
   "cell_type": "code",
   "execution_count": 3,
   "metadata": {
    "executionInfo": {
     "elapsed": 131438,
     "status": "ok",
     "timestamp": 1619185826456,
     "user": {
      "displayName": "Nomuundalai Bat-Erdene",
      "photoUrl": "https://lh3.googleusercontent.com/a-/AOh14GjTrVVyaWMe-afuUQZ9ZkEfuWeyOU3LSoI-6_gzLR4=s64",
      "userId": "12706177033927725173"
     },
     "user_tz": -480
    },
    "id": "NAv6RX4GFUbB"
   },
   "outputs": [],
   "source": [
    "from fastai.tabular.all import *"
   ]
  },
  {
   "cell_type": "code",
   "execution_count": 4,
   "metadata": {
    "colab": {
     "base_uri": "https://localhost:8080/"
    },
    "executionInfo": {
     "elapsed": 131095,
     "status": "ok",
     "timestamp": 1619185826458,
     "user": {
      "displayName": "Nomuundalai Bat-Erdene",
      "photoUrl": "https://lh3.googleusercontent.com/a-/AOh14GjTrVVyaWMe-afuUQZ9ZkEfuWeyOU3LSoI-6_gzLR4=s64",
      "userId": "12706177033927725173"
     },
     "user_tz": -480
    },
    "id": "hklvPZeTFV-v",
    "outputId": "e46833db-b4ff-41f6-bef8-25faa2933b94"
   },
   "outputs": [
    {
     "name": "stdout",
     "output_type": "stream",
     "text": [
      "NVIDIA-SMI has failed because it couldn't communicate with the NVIDIA driver. Make sure that the latest NVIDIA driver is installed and running.\n",
      "\n"
     ]
    }
   ],
   "source": [
    "!nvidia-smi"
   ]
  },
  {
   "cell_type": "markdown",
   "metadata": {
    "id": "g1_t6DXvNjMQ"
   },
   "source": [
    "## Load Dataset"
   ]
  },
  {
   "cell_type": "code",
   "execution_count": 5,
   "metadata": {
    "executionInfo": {
     "elapsed": 128145,
     "status": "ok",
     "timestamp": 1619185826458,
     "user": {
      "displayName": "Nomuundalai Bat-Erdene",
      "photoUrl": "https://lh3.googleusercontent.com/a-/AOh14GjTrVVyaWMe-afuUQZ9ZkEfuWeyOU3LSoI-6_gzLR4=s64",
      "userId": "12706177033927725173"
     },
     "user_tz": -480
    },
    "id": "P1bCI-e3NiAJ"
   },
   "outputs": [],
   "source": [
    "path = Path('/content/drive/MyDrive/Colab Notebooks/PSET 5/DATA')"
   ]
  },
  {
   "cell_type": "code",
   "execution_count": 6,
   "metadata": {
    "colab": {
     "base_uri": "https://localhost:8080/"
    },
    "executionInfo": {
     "elapsed": 127603,
     "status": "ok",
     "timestamp": 1619185826459,
     "user": {
      "displayName": "Nomuundalai Bat-Erdene",
      "photoUrl": "https://lh3.googleusercontent.com/a-/AOh14GjTrVVyaWMe-afuUQZ9ZkEfuWeyOU3LSoI-6_gzLR4=s64",
      "userId": "12706177033927725173"
     },
     "user_tz": -480
    },
    "id": "vLbD2eySPGx8",
    "outputId": "5151e415-2029-4f5a-ab3d-0ad6ce8c5b64"
   },
   "outputs": [
    {
     "data": {
      "text/plain": [
       "Path('/content/drive/MyDrive/Colab Notebooks/PSET 5/DATA')"
      ]
     },
     "execution_count": 6,
     "metadata": {
      "tags": []
     },
     "output_type": "execute_result"
    }
   ],
   "source": [
    "path"
   ]
  },
  {
   "cell_type": "code",
   "execution_count": 197,
   "metadata": {
    "executionInfo": {
     "elapsed": 1449,
     "status": "ok",
     "timestamp": 1619191531827,
     "user": {
      "displayName": "Nomuundalai Bat-Erdene",
      "photoUrl": "https://lh3.googleusercontent.com/a-/AOh14GjTrVVyaWMe-afuUQZ9ZkEfuWeyOU3LSoI-6_gzLR4=s64",
      "userId": "12706177033927725173"
     },
     "user_tz": -480
    },
    "id": "xd6RHh4qN7OF"
   },
   "outputs": [],
   "source": [
    "pm_test = pd.read_csv(path/'pm_test.csv')\n",
    "pm_train = pd.read_csv(path/'pm_train.csv')\n",
    "weather = pd.read_csv(path/'weather.csv')"
   ]
  },
  {
   "cell_type": "code",
   "execution_count": 198,
   "metadata": {
    "colab": {
     "base_uri": "https://localhost:8080/",
     "height": 80
    },
    "executionInfo": {
     "elapsed": 1131,
     "status": "ok",
     "timestamp": 1619191531831,
     "user": {
      "displayName": "Nomuundalai Bat-Erdene",
      "photoUrl": "https://lh3.googleusercontent.com/a-/AOh14GjTrVVyaWMe-afuUQZ9ZkEfuWeyOU3LSoI-6_gzLR4=s64",
      "userId": "12706177033927725173"
     },
     "user_tz": -480
    },
    "id": "Ge48sZ3WPR9n",
    "outputId": "aff5e0ef-7b07-4678-d62b-d54683aae6ab"
   },
   "outputs": [
    {
     "data": {
      "text/html": [
       "<div>\n",
       "<style scoped>\n",
       "    .dataframe tbody tr th:only-of-type {\n",
       "        vertical-align: middle;\n",
       "    }\n",
       "\n",
       "    .dataframe tbody tr th {\n",
       "        vertical-align: top;\n",
       "    }\n",
       "\n",
       "    .dataframe thead th {\n",
       "        text-align: right;\n",
       "    }\n",
       "</style>\n",
       "<table border=\"1\" class=\"dataframe\">\n",
       "  <thead>\n",
       "    <tr style=\"text-align: right;\">\n",
       "      <th></th>\n",
       "      <th>ID</th>\n",
       "      <th>date</th>\n",
       "      <th>latitude</th>\n",
       "      <th>longitude</th>\n",
       "      <th>type</th>\n",
       "      <th>source</th>\n",
       "      <th>station</th>\n",
       "      <th>aqi</th>\n",
       "    </tr>\n",
       "  </thead>\n",
       "  <tbody>\n",
       "    <tr>\n",
       "      <th>0</th>\n",
       "      <td>326340</td>\n",
       "      <td>2019-01-05 00:00:00</td>\n",
       "      <td>47.928387</td>\n",
       "      <td>106.92947</td>\n",
       "      <td>PM2.5</td>\n",
       "      <td>Stateair.mn</td>\n",
       "      <td>АНУ-ын Элчин сайдын яам</td>\n",
       "      <td>361.0</td>\n",
       "    </tr>\n",
       "  </tbody>\n",
       "</table>\n",
       "</div>"
      ],
      "text/plain": [
       "       ID                 date  ...                  station    aqi\n",
       "0  326340  2019-01-05 00:00:00  ...  АНУ-ын Элчин сайдын яам  361.0\n",
       "\n",
       "[1 rows x 8 columns]"
      ]
     },
     "execution_count": 198,
     "metadata": {
      "tags": []
     },
     "output_type": "execute_result"
    }
   ],
   "source": [
    "pm_test.head(1)"
   ]
  },
  {
   "cell_type": "code",
   "execution_count": 199,
   "metadata": {
    "colab": {
     "base_uri": "https://localhost:8080/",
     "height": 80
    },
    "executionInfo": {
     "elapsed": 1262,
     "status": "ok",
     "timestamp": 1619191532475,
     "user": {
      "displayName": "Nomuundalai Bat-Erdene",
      "photoUrl": "https://lh3.googleusercontent.com/a-/AOh14GjTrVVyaWMe-afuUQZ9ZkEfuWeyOU3LSoI-6_gzLR4=s64",
      "userId": "12706177033927725173"
     },
     "user_tz": -480
    },
    "id": "-TIWGxuZPwC-",
    "outputId": "59e96937-1c85-48c5-e6b7-75ac692ad468"
   },
   "outputs": [
    {
     "data": {
      "text/html": [
       "<div>\n",
       "<style scoped>\n",
       "    .dataframe tbody tr th:only-of-type {\n",
       "        vertical-align: middle;\n",
       "    }\n",
       "\n",
       "    .dataframe tbody tr th {\n",
       "        vertical-align: top;\n",
       "    }\n",
       "\n",
       "    .dataframe thead th {\n",
       "        text-align: right;\n",
       "    }\n",
       "</style>\n",
       "<table border=\"1\" class=\"dataframe\">\n",
       "  <thead>\n",
       "    <tr style=\"text-align: right;\">\n",
       "      <th></th>\n",
       "      <th>ID</th>\n",
       "      <th>date</th>\n",
       "      <th>latitude</th>\n",
       "      <th>longitude</th>\n",
       "      <th>type</th>\n",
       "      <th>source</th>\n",
       "      <th>station</th>\n",
       "      <th>aqi</th>\n",
       "    </tr>\n",
       "  </thead>\n",
       "  <tbody>\n",
       "    <tr>\n",
       "      <th>0</th>\n",
       "      <td>1</td>\n",
       "      <td>2015-09-01 09:00:00</td>\n",
       "      <td>47.922497</td>\n",
       "      <td>106.79481</td>\n",
       "      <td>PM10</td>\n",
       "      <td>Agaar.mn</td>\n",
       "      <td>Толгойт</td>\n",
       "      <td>31.0</td>\n",
       "    </tr>\n",
       "  </tbody>\n",
       "</table>\n",
       "</div>"
      ],
      "text/plain": [
       "   ID                 date   latitude  longitude  type    source  station   aqi\n",
       "0   1  2015-09-01 09:00:00  47.922497  106.79481  PM10  Agaar.mn  Толгойт  31.0"
      ]
     },
     "execution_count": 199,
     "metadata": {
      "tags": []
     },
     "output_type": "execute_result"
    }
   ],
   "source": [
    "pm_train.head(1)"
   ]
  },
  {
   "cell_type": "code",
   "execution_count": 200,
   "metadata": {
    "colab": {
     "base_uri": "https://localhost:8080/",
     "height": 151
    },
    "executionInfo": {
     "elapsed": 1281,
     "status": "ok",
     "timestamp": 1619191533028,
     "user": {
      "displayName": "Nomuundalai Bat-Erdene",
      "photoUrl": "https://lh3.googleusercontent.com/a-/AOh14GjTrVVyaWMe-afuUQZ9ZkEfuWeyOU3LSoI-6_gzLR4=s64",
      "userId": "12706177033927725173"
     },
     "user_tz": -480
    },
    "id": "r6B_9a9UPx2E",
    "outputId": "ec9fd226-d39a-494d-b4a5-0276abdb0ab3"
   },
   "outputs": [
    {
     "data": {
      "text/html": [
       "<div>\n",
       "<style scoped>\n",
       "    .dataframe tbody tr th:only-of-type {\n",
       "        vertical-align: middle;\n",
       "    }\n",
       "\n",
       "    .dataframe tbody tr th {\n",
       "        vertical-align: top;\n",
       "    }\n",
       "\n",
       "    .dataframe thead th {\n",
       "        text-align: right;\n",
       "    }\n",
       "</style>\n",
       "<table border=\"1\" class=\"dataframe\">\n",
       "  <thead>\n",
       "    <tr style=\"text-align: right;\">\n",
       "      <th></th>\n",
       "      <th>Unnamed: 0</th>\n",
       "      <th>date</th>\n",
       "      <th>summary</th>\n",
       "      <th>icon</th>\n",
       "      <th>precipIntensity</th>\n",
       "      <th>precipProbability</th>\n",
       "      <th>temperature</th>\n",
       "      <th>apparentTemperature</th>\n",
       "      <th>dewPoint</th>\n",
       "      <th>humidity</th>\n",
       "      <th>windSpeed</th>\n",
       "      <th>windBearing</th>\n",
       "      <th>cloudCover</th>\n",
       "      <th>uvIndex</th>\n",
       "      <th>visibility</th>\n",
       "    </tr>\n",
       "  </thead>\n",
       "  <tbody>\n",
       "    <tr>\n",
       "      <th>0</th>\n",
       "      <td>0</td>\n",
       "      <td>2015-09-01 00:00:00</td>\n",
       "      <td>Partly Cloudy</td>\n",
       "      <td>partly-cloudy-night</td>\n",
       "      <td>0.0</td>\n",
       "      <td>0.0</td>\n",
       "      <td>16.39</td>\n",
       "      <td>16.39</td>\n",
       "      <td>12.09</td>\n",
       "      <td>0.76</td>\n",
       "      <td>4.01</td>\n",
       "      <td>354.0</td>\n",
       "      <td>0.53</td>\n",
       "      <td>0.0</td>\n",
       "      <td>10.003</td>\n",
       "    </tr>\n",
       "  </tbody>\n",
       "</table>\n",
       "</div>"
      ],
      "text/plain": [
       "   Unnamed: 0                 date  ... uvIndex visibility\n",
       "0           0  2015-09-01 00:00:00  ...     0.0     10.003\n",
       "\n",
       "[1 rows x 15 columns]"
      ]
     },
     "execution_count": 200,
     "metadata": {
      "tags": []
     },
     "output_type": "execute_result"
    }
   ],
   "source": [
    "weather.head(1)"
   ]
  },
  {
   "cell_type": "markdown",
   "metadata": {
    "id": "lstFP6_fdl59"
   },
   "source": [
    "## Merge with weather"
   ]
  },
  {
   "cell_type": "code",
   "execution_count": 201,
   "metadata": {
    "executionInfo": {
     "elapsed": 1457,
     "status": "ok",
     "timestamp": 1619191534314,
     "user": {
      "displayName": "Nomuundalai Bat-Erdene",
      "photoUrl": "https://lh3.googleusercontent.com/a-/AOh14GjTrVVyaWMe-afuUQZ9ZkEfuWeyOU3LSoI-6_gzLR4=s64",
      "userId": "12706177033927725173"
     },
     "user_tz": -480
    },
    "id": "SzeLm3psaTkg"
   },
   "outputs": [],
   "source": [
    "pm_train_merged = weather.merge(pm_train, on='date', how='right')"
   ]
  },
  {
   "cell_type": "code",
   "execution_count": 202,
   "metadata": {
    "executionInfo": {
     "elapsed": 1336,
     "status": "ok",
     "timestamp": 1619191534730,
     "user": {
      "displayName": "Nomuundalai Bat-Erdene",
      "photoUrl": "https://lh3.googleusercontent.com/a-/AOh14GjTrVVyaWMe-afuUQZ9ZkEfuWeyOU3LSoI-6_gzLR4=s64",
      "userId": "12706177033927725173"
     },
     "user_tz": -480
    },
    "id": "b6B-O7z8dVej"
   },
   "outputs": [],
   "source": [
    "pm_test_merged = weather.merge(pm_test, on='date', how='right')"
   ]
  },
  {
   "cell_type": "code",
   "execution_count": 203,
   "metadata": {
    "colab": {
     "base_uri": "https://localhost:8080/"
    },
    "executionInfo": {
     "elapsed": 1404,
     "status": "ok",
     "timestamp": 1619191535207,
     "user": {
      "displayName": "Nomuundalai Bat-Erdene",
      "photoUrl": "https://lh3.googleusercontent.com/a-/AOh14GjTrVVyaWMe-afuUQZ9ZkEfuWeyOU3LSoI-6_gzLR4=s64",
      "userId": "12706177033927725173"
     },
     "user_tz": -480
    },
    "id": "eC7Xvm8tbspS",
    "outputId": "0cc96004-1b10-4c42-bd22-cdf667565d91"
   },
   "outputs": [
    {
     "data": {
      "text/plain": [
       "(326339, 22)"
      ]
     },
     "execution_count": 203,
     "metadata": {
      "tags": []
     },
     "output_type": "execute_result"
    }
   ],
   "source": [
    "pm_train_merged.shape"
   ]
  },
  {
   "cell_type": "code",
   "execution_count": 204,
   "metadata": {
    "colab": {
     "base_uri": "https://localhost:8080/"
    },
    "executionInfo": {
     "elapsed": 748,
     "status": "ok",
     "timestamp": 1619191535208,
     "user": {
      "displayName": "Nomuundalai Bat-Erdene",
      "photoUrl": "https://lh3.googleusercontent.com/a-/AOh14GjTrVVyaWMe-afuUQZ9ZkEfuWeyOU3LSoI-6_gzLR4=s64",
      "userId": "12706177033927725173"
     },
     "user_tz": -480
    },
    "id": "Mz-mfMMrdZ2X",
    "outputId": "ac40f7d0-9ca9-4097-999a-82ab17b474d3"
   },
   "outputs": [
    {
     "data": {
      "text/plain": [
       "(91964, 22)"
      ]
     },
     "execution_count": 204,
     "metadata": {
      "tags": []
     },
     "output_type": "execute_result"
    }
   ],
   "source": [
    "pm_test_merged.shape"
   ]
  },
  {
   "cell_type": "markdown",
   "metadata": {
    "id": "T8UorHxmQt6u"
   },
   "source": [
    "## Data Cleaning"
   ]
  },
  {
   "cell_type": "markdown",
   "metadata": {
    "id": "9ndNIPN6RgGZ"
   },
   "source": [
    "### Handling Dates"
   ]
  },
  {
   "cell_type": "code",
   "execution_count": 205,
   "metadata": {
    "executionInfo": {
     "elapsed": 2498,
     "status": "ok",
     "timestamp": 1619191538599,
     "user": {
      "displayName": "Nomuundalai Bat-Erdene",
      "photoUrl": "https://lh3.googleusercontent.com/a-/AOh14GjTrVVyaWMe-afuUQZ9ZkEfuWeyOU3LSoI-6_gzLR4=s64",
      "userId": "12706177033927725173"
     },
     "user_tz": -480
    },
    "id": "fVUvq6u6RfX0"
   },
   "outputs": [],
   "source": [
    "pm_train_merged = add_datepart(pm_train_merged, 'date')\n",
    "pm_test_merged = add_datepart(pm_test_merged, 'date')"
   ]
  },
  {
   "cell_type": "code",
   "execution_count": 206,
   "metadata": {
    "colab": {
     "base_uri": "https://localhost:8080/",
     "height": 35
    },
    "executionInfo": {
     "elapsed": 1916,
     "status": "ok",
     "timestamp": 1619191538601,
     "user": {
      "displayName": "Nomuundalai Bat-Erdene",
      "photoUrl": "https://lh3.googleusercontent.com/a-/AOh14GjTrVVyaWMe-afuUQZ9ZkEfuWeyOU3LSoI-6_gzLR4=s64",
      "userId": "12706177033927725173"
     },
     "user_tz": -480
    },
    "id": "FeMwHkRw9W0Y",
    "outputId": "739871af-dafa-4103-ef7a-5ddb0d69d941"
   },
   "outputs": [
    {
     "data": {
      "application/vnd.google.colaboratory.intrinsic+json": {
       "type": "string"
      },
      "text/plain": [
       "'aqi'"
      ]
     },
     "execution_count": 206,
     "metadata": {
      "tags": []
     },
     "output_type": "execute_result"
    }
   ],
   "source": [
    "' '.join(o for o in pm_test_merged.columns if o.startswith('aqi'))"
   ]
  },
  {
   "cell_type": "code",
   "execution_count": 207,
   "metadata": {
    "colab": {
     "base_uri": "https://localhost:8080/"
    },
    "executionInfo": {
     "elapsed": 1351,
     "status": "ok",
     "timestamp": 1619191538606,
     "user": {
      "displayName": "Nomuundalai Bat-Erdene",
      "photoUrl": "https://lh3.googleusercontent.com/a-/AOh14GjTrVVyaWMe-afuUQZ9ZkEfuWeyOU3LSoI-6_gzLR4=s64",
      "userId": "12706177033927725173"
     },
     "user_tz": -480
    },
    "id": "p2MiLbRhYUkH",
    "outputId": "845795b3-6474-4b1a-8ae3-5ed82c1963a7"
   },
   "outputs": [
    {
     "data": {
      "text/plain": [
       "Unnamed: 0             float64\n",
       "summary                 object\n",
       "icon                    object\n",
       "precipIntensity        float64\n",
       "precipProbability      float64\n",
       "temperature            float64\n",
       "apparentTemperature    float64\n",
       "dewPoint               float64\n",
       "humidity               float64\n",
       "windSpeed              float64\n",
       "windBearing            float64\n",
       "cloudCover             float64\n",
       "uvIndex                float64\n",
       "visibility             float64\n",
       "ID                       int64\n",
       "latitude               float64\n",
       "longitude              float64\n",
       "type                    object\n",
       "source                  object\n",
       "station                 object\n",
       "aqi                    float64\n",
       "Year                     int64\n",
       "Month                    int64\n",
       "Week                     int64\n",
       "Day                      int64\n",
       "Dayofweek                int64\n",
       "Dayofyear                int64\n",
       "Is_month_end              bool\n",
       "Is_month_start            bool\n",
       "Is_quarter_end            bool\n",
       "Is_quarter_start          bool\n",
       "Is_year_end               bool\n",
       "Is_year_start             bool\n",
       "Elapsed                float64\n",
       "dtype: object"
      ]
     },
     "execution_count": 207,
     "metadata": {
      "tags": []
     },
     "output_type": "execute_result"
    }
   ],
   "source": [
    "pm_train_merged.dtypes"
   ]
  },
  {
   "cell_type": "code",
   "execution_count": 208,
   "metadata": {
    "colab": {
     "base_uri": "https://localhost:8080/"
    },
    "executionInfo": {
     "elapsed": 1447,
     "status": "ok",
     "timestamp": 1619191539126,
     "user": {
      "displayName": "Nomuundalai Bat-Erdene",
      "photoUrl": "https://lh3.googleusercontent.com/a-/AOh14GjTrVVyaWMe-afuUQZ9ZkEfuWeyOU3LSoI-6_gzLR4=s64",
      "userId": "12706177033927725173"
     },
     "user_tz": -480
    },
    "id": "1Ib829q5ZFD9",
    "outputId": "fa063d40-7560-4cb5-bb1d-6cf23ca08a21"
   },
   "outputs": [
    {
     "data": {
      "text/plain": [
       "Unnamed: 0             float64\n",
       "summary                 object\n",
       "icon                    object\n",
       "precipIntensity        float64\n",
       "precipProbability      float64\n",
       "temperature            float64\n",
       "apparentTemperature    float64\n",
       "dewPoint               float64\n",
       "humidity               float64\n",
       "windSpeed              float64\n",
       "windBearing            float64\n",
       "cloudCover             float64\n",
       "uvIndex                float64\n",
       "visibility             float64\n",
       "ID                       int64\n",
       "latitude               float64\n",
       "longitude              float64\n",
       "type                    object\n",
       "source                  object\n",
       "station                 object\n",
       "aqi                    float64\n",
       "Year                     int64\n",
       "Month                    int64\n",
       "Week                     int64\n",
       "Day                      int64\n",
       "Dayofweek                int64\n",
       "Dayofyear                int64\n",
       "Is_month_end              bool\n",
       "Is_month_start            bool\n",
       "Is_quarter_end            bool\n",
       "Is_quarter_start          bool\n",
       "Is_year_end               bool\n",
       "Is_year_start             bool\n",
       "Elapsed                float64\n",
       "dtype: object"
      ]
     },
     "execution_count": 208,
     "metadata": {
      "tags": []
     },
     "output_type": "execute_result"
    }
   ],
   "source": [
    "pm_test_merged.dtypes"
   ]
  },
  {
   "cell_type": "code",
   "execution_count": 19,
   "metadata": {
    "executionInfo": {
     "elapsed": 1456,
     "status": "ok",
     "timestamp": 1619178763454,
     "user": {
      "displayName": "Nomuundalai Bat-Erdene",
      "photoUrl": "https://lh3.googleusercontent.com/a-/AOh14GjTrVVyaWMe-afuUQZ9ZkEfuWeyOU3LSoI-6_gzLR4=s64",
      "userId": "12706177033927725173"
     },
     "user_tz": -480
    },
    "id": "MURaOdZcYVZ5"
   },
   "outputs": [],
   "source": [
    "pm_train_merged['Elapsed'] = pm_train_merged['Elapsed'].astype('int64')"
   ]
  },
  {
   "cell_type": "code",
   "execution_count": 20,
   "metadata": {
    "executionInfo": {
     "elapsed": 1109,
     "status": "ok",
     "timestamp": 1619178769379,
     "user": {
      "displayName": "Nomuundalai Bat-Erdene",
      "photoUrl": "https://lh3.googleusercontent.com/a-/AOh14GjTrVVyaWMe-afuUQZ9ZkEfuWeyOU3LSoI-6_gzLR4=s64",
      "userId": "12706177033927725173"
     },
     "user_tz": -480
    },
    "id": "ANSYIHkVZH_K"
   },
   "outputs": [],
   "source": [
    "pm_test_merged['Elapsed'] = pm_test_merged['Elapsed'].astype('int64')"
   ]
  },
  {
   "cell_type": "markdown",
   "metadata": {
    "id": "gQDrVWiQf2e0"
   },
   "source": [
    "### Deleting unuseful columns"
   ]
  },
  {
   "cell_type": "code",
   "execution_count": 209,
   "metadata": {
    "executionInfo": {
     "elapsed": 1088,
     "status": "ok",
     "timestamp": 1619191541499,
     "user": {
      "displayName": "Nomuundalai Bat-Erdene",
      "photoUrl": "https://lh3.googleusercontent.com/a-/AOh14GjTrVVyaWMe-afuUQZ9ZkEfuWeyOU3LSoI-6_gzLR4=s64",
      "userId": "12706177033927725173"
     },
     "user_tz": -480
    },
    "id": "bAs8QEWDfUZR"
   },
   "outputs": [],
   "source": [
    "pm_test_merged_deleted = pm_test_merged.drop(['apparentTemperature','source','Unnamed: 0','icon','summary','precipIntensity','precipProbability','windSpeed','windBearing','cloudCover','uvIndex','visibility'], axis = 1)"
   ]
  },
  {
   "cell_type": "code",
   "execution_count": 210,
   "metadata": {
    "executionInfo": {
     "elapsed": 1020,
     "status": "ok",
     "timestamp": 1619191544222,
     "user": {
      "displayName": "Nomuundalai Bat-Erdene",
      "photoUrl": "https://lh3.googleusercontent.com/a-/AOh14GjTrVVyaWMe-afuUQZ9ZkEfuWeyOU3LSoI-6_gzLR4=s64",
      "userId": "12706177033927725173"
     },
     "user_tz": -480
    },
    "id": "xzjMoREggCXu"
   },
   "outputs": [],
   "source": [
    "pm_train_merged_deleted = pm_train_merged.drop(['apparentTemperature','source','Unnamed: 0','icon','summary','precipIntensity','precipProbability','windSpeed','windBearing','cloudCover','uvIndex','visibility'], axis = 1)"
   ]
  },
  {
   "cell_type": "code",
   "execution_count": 211,
   "metadata": {
    "colab": {
     "base_uri": "https://localhost:8080/"
    },
    "executionInfo": {
     "elapsed": 782,
     "status": "ok",
     "timestamp": 1619191546027,
     "user": {
      "displayName": "Nomuundalai Bat-Erdene",
      "photoUrl": "https://lh3.googleusercontent.com/a-/AOh14GjTrVVyaWMe-afuUQZ9ZkEfuWeyOU3LSoI-6_gzLR4=s64",
      "userId": "12706177033927725173"
     },
     "user_tz": -480
    },
    "id": "O4fq1JnBhCsr",
    "outputId": "57aab3fa-0297-4de8-ab0b-a95e95fa2730"
   },
   "outputs": [
    {
     "name": "stdout",
     "output_type": "stream",
     "text": [
      "False\n",
      "False\n",
      "True\n",
      "True\n",
      "90811\n",
      "(91964, 8)\n"
     ]
    }
   ],
   "source": [
    "print(pm_train['aqi'].isnull().values.any())\n",
    "print(pm_train.isnull().values.any())\n",
    "print(pm_test['aqi'].isnull().values.any())\n",
    "print(pm_test.isnull().values.any())\n",
    "print(pm_test['aqi'].isnull().sum())\n",
    "print(pm_test.shape)\n"
   ]
  },
  {
   "cell_type": "code",
   "execution_count": 212,
   "metadata": {
    "colab": {
     "base_uri": "https://localhost:8080/",
     "height": 100
    },
    "executionInfo": {
     "elapsed": 1728,
     "status": "ok",
     "timestamp": 1619191550066,
     "user": {
      "displayName": "Nomuundalai Bat-Erdene",
      "photoUrl": "https://lh3.googleusercontent.com/a-/AOh14GjTrVVyaWMe-afuUQZ9ZkEfuWeyOU3LSoI-6_gzLR4=s64",
      "userId": "12706177033927725173"
     },
     "user_tz": -480
    },
    "id": "zopBW7xg97ld",
    "outputId": "7218bc52-45c7-49ba-bf97-750497a9bf63"
   },
   "outputs": [
    {
     "data": {
      "text/html": [
       "<div>\n",
       "<style scoped>\n",
       "    .dataframe tbody tr th:only-of-type {\n",
       "        vertical-align: middle;\n",
       "    }\n",
       "\n",
       "    .dataframe tbody tr th {\n",
       "        vertical-align: top;\n",
       "    }\n",
       "\n",
       "    .dataframe thead th {\n",
       "        text-align: right;\n",
       "    }\n",
       "</style>\n",
       "<table border=\"1\" class=\"dataframe\">\n",
       "  <thead>\n",
       "    <tr style=\"text-align: right;\">\n",
       "      <th></th>\n",
       "      <th>temperature</th>\n",
       "      <th>dewPoint</th>\n",
       "      <th>humidity</th>\n",
       "      <th>ID</th>\n",
       "      <th>latitude</th>\n",
       "      <th>longitude</th>\n",
       "      <th>type</th>\n",
       "      <th>station</th>\n",
       "      <th>aqi</th>\n",
       "      <th>Year</th>\n",
       "      <th>Month</th>\n",
       "      <th>Week</th>\n",
       "      <th>Day</th>\n",
       "      <th>Dayofweek</th>\n",
       "      <th>Dayofyear</th>\n",
       "      <th>Is_month_end</th>\n",
       "      <th>Is_month_start</th>\n",
       "      <th>Is_quarter_end</th>\n",
       "      <th>Is_quarter_start</th>\n",
       "      <th>Is_year_end</th>\n",
       "      <th>Is_year_start</th>\n",
       "      <th>Elapsed</th>\n",
       "    </tr>\n",
       "  </thead>\n",
       "  <tbody>\n",
       "    <tr>\n",
       "      <th>0</th>\n",
       "      <td>13.3</td>\n",
       "      <td>10.18</td>\n",
       "      <td>0.81</td>\n",
       "      <td>1</td>\n",
       "      <td>47.922497</td>\n",
       "      <td>106.79481</td>\n",
       "      <td>PM10</td>\n",
       "      <td>Толгойт</td>\n",
       "      <td>31.0</td>\n",
       "      <td>2015</td>\n",
       "      <td>9</td>\n",
       "      <td>36</td>\n",
       "      <td>1</td>\n",
       "      <td>1</td>\n",
       "      <td>244</td>\n",
       "      <td>False</td>\n",
       "      <td>True</td>\n",
       "      <td>False</td>\n",
       "      <td>False</td>\n",
       "      <td>False</td>\n",
       "      <td>False</td>\n",
       "      <td>1.441098e+09</td>\n",
       "    </tr>\n",
       "  </tbody>\n",
       "</table>\n",
       "</div>"
      ],
      "text/plain": [
       "   temperature  dewPoint  humidity  ...  Is_year_end  Is_year_start       Elapsed\n",
       "0         13.3     10.18      0.81  ...        False          False  1.441098e+09\n",
       "\n",
       "[1 rows x 22 columns]"
      ]
     },
     "execution_count": 212,
     "metadata": {
      "tags": []
     },
     "output_type": "execute_result"
    }
   ],
   "source": [
    "pm_train_merged_deleted.head(1)"
   ]
  },
  {
   "cell_type": "code",
   "execution_count": 213,
   "metadata": {
    "executionInfo": {
     "elapsed": 1767,
     "status": "ok",
     "timestamp": 1619191552825,
     "user": {
      "displayName": "Nomuundalai Bat-Erdene",
      "photoUrl": "https://lh3.googleusercontent.com/a-/AOh14GjTrVVyaWMe-afuUQZ9ZkEfuWeyOU3LSoI-6_gzLR4=s64",
      "userId": "12706177033927725173"
     },
     "user_tz": -480
    },
    "id": "R79OJh9nHSgh"
   },
   "outputs": [],
   "source": [
    "pm_train_merged_deleted['aqi_1'] = pm_train_merged_deleted.aqi.shift(1)\n",
    "pm_train_merged_deleted['temperature_1'] = pm_train_merged_deleted.temperature.shift(1)\n",
    "pm_train_merged_deleted['dewPoint_1'] = pm_train_merged_deleted.dewPoint.shift(1)\n",
    "pm_train_merged_deleted['humidity_1'] = pm_train_merged_deleted.humidity.shift(1)\n",
    "\n",
    "pm_train_merged_deleted['aqi_2'] = pm_train_merged_deleted.aqi.shift(2)\n",
    "pm_train_merged_deleted['temperature_2'] = pm_train_merged_deleted.temperature.shift(2)\n",
    "pm_train_merged_deleted['dewPoint_2'] = pm_train_merged_deleted.dewPoint.shift(2)\n",
    "pm_train_merged_deleted['humidity_2'] = pm_train_merged_deleted.humidity.shift(2)\n",
    "\n",
    "pm_train_merged_deleted['aqi_3'] = pm_train_merged_deleted.aqi.shift(3)\n",
    "pm_train_merged_deleted['temperature_3'] = pm_train_merged_deleted.temperature.shift(3)\n",
    "pm_train_merged_deleted['dewPoint_3'] = pm_train_merged_deleted.dewPoint.shift(3)\n",
    "pm_train_merged_deleted['humidity_3'] = pm_train_merged_deleted.humidity.shift(3)"
   ]
  },
  {
   "cell_type": "code",
   "execution_count": 214,
   "metadata": {
    "colab": {
     "base_uri": "https://localhost:8080/",
     "height": 447
    },
    "executionInfo": {
     "elapsed": 1339,
     "status": "ok",
     "timestamp": 1619191555116,
     "user": {
      "displayName": "Nomuundalai Bat-Erdene",
      "photoUrl": "https://lh3.googleusercontent.com/a-/AOh14GjTrVVyaWMe-afuUQZ9ZkEfuWeyOU3LSoI-6_gzLR4=s64",
      "userId": "12706177033927725173"
     },
     "user_tz": -480
    },
    "id": "9ffr_BvZ-6-P",
    "outputId": "1e1516e1-14b7-4cf3-f5aa-8f11ca599792"
   },
   "outputs": [
    {
     "data": {
      "text/html": [
       "<div>\n",
       "<style scoped>\n",
       "    .dataframe tbody tr th:only-of-type {\n",
       "        vertical-align: middle;\n",
       "    }\n",
       "\n",
       "    .dataframe tbody tr th {\n",
       "        vertical-align: top;\n",
       "    }\n",
       "\n",
       "    .dataframe thead th {\n",
       "        text-align: right;\n",
       "    }\n",
       "</style>\n",
       "<table border=\"1\" class=\"dataframe\">\n",
       "  <thead>\n",
       "    <tr style=\"text-align: right;\">\n",
       "      <th></th>\n",
       "      <th>temperature</th>\n",
       "      <th>dewPoint</th>\n",
       "      <th>humidity</th>\n",
       "      <th>ID</th>\n",
       "      <th>latitude</th>\n",
       "      <th>longitude</th>\n",
       "      <th>type</th>\n",
       "      <th>station</th>\n",
       "      <th>aqi</th>\n",
       "      <th>Year</th>\n",
       "      <th>Month</th>\n",
       "      <th>Week</th>\n",
       "      <th>Day</th>\n",
       "      <th>Dayofweek</th>\n",
       "      <th>Dayofyear</th>\n",
       "      <th>Is_month_end</th>\n",
       "      <th>Is_month_start</th>\n",
       "      <th>Is_quarter_end</th>\n",
       "      <th>Is_quarter_start</th>\n",
       "      <th>Is_year_end</th>\n",
       "      <th>Is_year_start</th>\n",
       "      <th>Elapsed</th>\n",
       "      <th>aqi_1</th>\n",
       "      <th>temperature_1</th>\n",
       "      <th>dewPoint_1</th>\n",
       "      <th>humidity_1</th>\n",
       "      <th>aqi_2</th>\n",
       "      <th>temperature_2</th>\n",
       "      <th>dewPoint_2</th>\n",
       "      <th>humidity_2</th>\n",
       "      <th>aqi_3</th>\n",
       "      <th>temperature_3</th>\n",
       "      <th>dewPoint_3</th>\n",
       "      <th>humidity_3</th>\n",
       "    </tr>\n",
       "  </thead>\n",
       "  <tbody>\n",
       "    <tr>\n",
       "      <th>0</th>\n",
       "      <td>13.30</td>\n",
       "      <td>10.18</td>\n",
       "      <td>0.81</td>\n",
       "      <td>1</td>\n",
       "      <td>47.922497</td>\n",
       "      <td>106.794810</td>\n",
       "      <td>PM10</td>\n",
       "      <td>Толгойт</td>\n",
       "      <td>31.0</td>\n",
       "      <td>2015</td>\n",
       "      <td>9</td>\n",
       "      <td>36</td>\n",
       "      <td>1</td>\n",
       "      <td>1</td>\n",
       "      <td>244</td>\n",
       "      <td>False</td>\n",
       "      <td>True</td>\n",
       "      <td>False</td>\n",
       "      <td>False</td>\n",
       "      <td>False</td>\n",
       "      <td>False</td>\n",
       "      <td>1.441098e+09</td>\n",
       "      <td>NaN</td>\n",
       "      <td>NaN</td>\n",
       "      <td>NaN</td>\n",
       "      <td>NaN</td>\n",
       "      <td>NaN</td>\n",
       "      <td>NaN</td>\n",
       "      <td>NaN</td>\n",
       "      <td>NaN</td>\n",
       "      <td>NaN</td>\n",
       "      <td>NaN</td>\n",
       "      <td>NaN</td>\n",
       "      <td>NaN</td>\n",
       "    </tr>\n",
       "    <tr>\n",
       "      <th>1</th>\n",
       "      <td>13.30</td>\n",
       "      <td>10.18</td>\n",
       "      <td>0.81</td>\n",
       "      <td>2</td>\n",
       "      <td>47.932907</td>\n",
       "      <td>106.921390</td>\n",
       "      <td>PM10</td>\n",
       "      <td>100 айл</td>\n",
       "      <td>36.0</td>\n",
       "      <td>2015</td>\n",
       "      <td>9</td>\n",
       "      <td>36</td>\n",
       "      <td>1</td>\n",
       "      <td>1</td>\n",
       "      <td>244</td>\n",
       "      <td>False</td>\n",
       "      <td>True</td>\n",
       "      <td>False</td>\n",
       "      <td>False</td>\n",
       "      <td>False</td>\n",
       "      <td>False</td>\n",
       "      <td>1.441098e+09</td>\n",
       "      <td>31.0</td>\n",
       "      <td>13.3</td>\n",
       "      <td>10.18</td>\n",
       "      <td>0.81</td>\n",
       "      <td>NaN</td>\n",
       "      <td>NaN</td>\n",
       "      <td>NaN</td>\n",
       "      <td>NaN</td>\n",
       "      <td>NaN</td>\n",
       "      <td>NaN</td>\n",
       "      <td>NaN</td>\n",
       "      <td>NaN</td>\n",
       "    </tr>\n",
       "    <tr>\n",
       "      <th>2</th>\n",
       "      <td>13.30</td>\n",
       "      <td>10.18</td>\n",
       "      <td>0.81</td>\n",
       "      <td>3</td>\n",
       "      <td>47.929733</td>\n",
       "      <td>106.888626</td>\n",
       "      <td>PM10</td>\n",
       "      <td>МҮОНРТ</td>\n",
       "      <td>36.0</td>\n",
       "      <td>2015</td>\n",
       "      <td>9</td>\n",
       "      <td>36</td>\n",
       "      <td>1</td>\n",
       "      <td>1</td>\n",
       "      <td>244</td>\n",
       "      <td>False</td>\n",
       "      <td>True</td>\n",
       "      <td>False</td>\n",
       "      <td>False</td>\n",
       "      <td>False</td>\n",
       "      <td>False</td>\n",
       "      <td>1.441098e+09</td>\n",
       "      <td>36.0</td>\n",
       "      <td>13.3</td>\n",
       "      <td>10.18</td>\n",
       "      <td>0.81</td>\n",
       "      <td>31.0</td>\n",
       "      <td>13.3</td>\n",
       "      <td>10.18</td>\n",
       "      <td>0.81</td>\n",
       "      <td>NaN</td>\n",
       "      <td>NaN</td>\n",
       "      <td>NaN</td>\n",
       "      <td>NaN</td>\n",
       "    </tr>\n",
       "    <tr>\n",
       "      <th>3</th>\n",
       "      <td>13.30</td>\n",
       "      <td>10.18</td>\n",
       "      <td>0.81</td>\n",
       "      <td>4</td>\n",
       "      <td>47.915382</td>\n",
       "      <td>106.894196</td>\n",
       "      <td>PM10</td>\n",
       "      <td>Баруун 4 зам</td>\n",
       "      <td>37.0</td>\n",
       "      <td>2015</td>\n",
       "      <td>9</td>\n",
       "      <td>36</td>\n",
       "      <td>1</td>\n",
       "      <td>1</td>\n",
       "      <td>244</td>\n",
       "      <td>False</td>\n",
       "      <td>True</td>\n",
       "      <td>False</td>\n",
       "      <td>False</td>\n",
       "      <td>False</td>\n",
       "      <td>False</td>\n",
       "      <td>1.441098e+09</td>\n",
       "      <td>36.0</td>\n",
       "      <td>13.3</td>\n",
       "      <td>10.18</td>\n",
       "      <td>0.81</td>\n",
       "      <td>36.0</td>\n",
       "      <td>13.3</td>\n",
       "      <td>10.18</td>\n",
       "      <td>0.81</td>\n",
       "      <td>31.0</td>\n",
       "      <td>13.3</td>\n",
       "      <td>10.18</td>\n",
       "      <td>0.81</td>\n",
       "    </tr>\n",
       "    <tr>\n",
       "      <th>4</th>\n",
       "      <td>13.30</td>\n",
       "      <td>10.18</td>\n",
       "      <td>0.81</td>\n",
       "      <td>5</td>\n",
       "      <td>47.894340</td>\n",
       "      <td>106.882470</td>\n",
       "      <td>PM10</td>\n",
       "      <td>Мишээл экспо</td>\n",
       "      <td>30.0</td>\n",
       "      <td>2015</td>\n",
       "      <td>9</td>\n",
       "      <td>36</td>\n",
       "      <td>1</td>\n",
       "      <td>1</td>\n",
       "      <td>244</td>\n",
       "      <td>False</td>\n",
       "      <td>True</td>\n",
       "      <td>False</td>\n",
       "      <td>False</td>\n",
       "      <td>False</td>\n",
       "      <td>False</td>\n",
       "      <td>1.441098e+09</td>\n",
       "      <td>37.0</td>\n",
       "      <td>13.3</td>\n",
       "      <td>10.18</td>\n",
       "      <td>0.81</td>\n",
       "      <td>36.0</td>\n",
       "      <td>13.3</td>\n",
       "      <td>10.18</td>\n",
       "      <td>0.81</td>\n",
       "      <td>36.0</td>\n",
       "      <td>13.3</td>\n",
       "      <td>10.18</td>\n",
       "      <td>0.81</td>\n",
       "    </tr>\n",
       "    <tr>\n",
       "      <th>5</th>\n",
       "      <td>13.30</td>\n",
       "      <td>10.18</td>\n",
       "      <td>0.81</td>\n",
       "      <td>6</td>\n",
       "      <td>47.917606</td>\n",
       "      <td>106.937360</td>\n",
       "      <td>PM2.5</td>\n",
       "      <td>Бөхийн өргөө</td>\n",
       "      <td>36.0</td>\n",
       "      <td>2015</td>\n",
       "      <td>9</td>\n",
       "      <td>36</td>\n",
       "      <td>1</td>\n",
       "      <td>1</td>\n",
       "      <td>244</td>\n",
       "      <td>False</td>\n",
       "      <td>True</td>\n",
       "      <td>False</td>\n",
       "      <td>False</td>\n",
       "      <td>False</td>\n",
       "      <td>False</td>\n",
       "      <td>1.441098e+09</td>\n",
       "      <td>30.0</td>\n",
       "      <td>13.3</td>\n",
       "      <td>10.18</td>\n",
       "      <td>0.81</td>\n",
       "      <td>37.0</td>\n",
       "      <td>13.3</td>\n",
       "      <td>10.18</td>\n",
       "      <td>0.81</td>\n",
       "      <td>36.0</td>\n",
       "      <td>13.3</td>\n",
       "      <td>10.18</td>\n",
       "      <td>0.81</td>\n",
       "    </tr>\n",
       "    <tr>\n",
       "      <th>6</th>\n",
       "      <td>13.30</td>\n",
       "      <td>10.18</td>\n",
       "      <td>0.81</td>\n",
       "      <td>7</td>\n",
       "      <td>47.929733</td>\n",
       "      <td>106.888626</td>\n",
       "      <td>PM2.5</td>\n",
       "      <td>МҮОНРТ</td>\n",
       "      <td>31.0</td>\n",
       "      <td>2015</td>\n",
       "      <td>9</td>\n",
       "      <td>36</td>\n",
       "      <td>1</td>\n",
       "      <td>1</td>\n",
       "      <td>244</td>\n",
       "      <td>False</td>\n",
       "      <td>True</td>\n",
       "      <td>False</td>\n",
       "      <td>False</td>\n",
       "      <td>False</td>\n",
       "      <td>False</td>\n",
       "      <td>1.441098e+09</td>\n",
       "      <td>36.0</td>\n",
       "      <td>13.3</td>\n",
       "      <td>10.18</td>\n",
       "      <td>0.81</td>\n",
       "      <td>30.0</td>\n",
       "      <td>13.3</td>\n",
       "      <td>10.18</td>\n",
       "      <td>0.81</td>\n",
       "      <td>37.0</td>\n",
       "      <td>13.3</td>\n",
       "      <td>10.18</td>\n",
       "      <td>0.81</td>\n",
       "    </tr>\n",
       "    <tr>\n",
       "      <th>7</th>\n",
       "      <td>13.30</td>\n",
       "      <td>10.18</td>\n",
       "      <td>0.81</td>\n",
       "      <td>8</td>\n",
       "      <td>47.917606</td>\n",
       "      <td>106.937360</td>\n",
       "      <td>PM10</td>\n",
       "      <td>Бөхийн өргөө</td>\n",
       "      <td>26.0</td>\n",
       "      <td>2015</td>\n",
       "      <td>9</td>\n",
       "      <td>36</td>\n",
       "      <td>1</td>\n",
       "      <td>1</td>\n",
       "      <td>244</td>\n",
       "      <td>False</td>\n",
       "      <td>True</td>\n",
       "      <td>False</td>\n",
       "      <td>False</td>\n",
       "      <td>False</td>\n",
       "      <td>False</td>\n",
       "      <td>1.441098e+09</td>\n",
       "      <td>31.0</td>\n",
       "      <td>13.3</td>\n",
       "      <td>10.18</td>\n",
       "      <td>0.81</td>\n",
       "      <td>36.0</td>\n",
       "      <td>13.3</td>\n",
       "      <td>10.18</td>\n",
       "      <td>0.81</td>\n",
       "      <td>30.0</td>\n",
       "      <td>13.3</td>\n",
       "      <td>10.18</td>\n",
       "      <td>0.81</td>\n",
       "    </tr>\n",
       "    <tr>\n",
       "      <th>8</th>\n",
       "      <td>13.30</td>\n",
       "      <td>10.18</td>\n",
       "      <td>0.81</td>\n",
       "      <td>9</td>\n",
       "      <td>47.863940</td>\n",
       "      <td>106.779090</td>\n",
       "      <td>PM2.5</td>\n",
       "      <td>Нисэх</td>\n",
       "      <td>31.0</td>\n",
       "      <td>2015</td>\n",
       "      <td>9</td>\n",
       "      <td>36</td>\n",
       "      <td>1</td>\n",
       "      <td>1</td>\n",
       "      <td>244</td>\n",
       "      <td>False</td>\n",
       "      <td>True</td>\n",
       "      <td>False</td>\n",
       "      <td>False</td>\n",
       "      <td>False</td>\n",
       "      <td>False</td>\n",
       "      <td>1.441098e+09</td>\n",
       "      <td>26.0</td>\n",
       "      <td>13.3</td>\n",
       "      <td>10.18</td>\n",
       "      <td>0.81</td>\n",
       "      <td>31.0</td>\n",
       "      <td>13.3</td>\n",
       "      <td>10.18</td>\n",
       "      <td>0.81</td>\n",
       "      <td>36.0</td>\n",
       "      <td>13.3</td>\n",
       "      <td>10.18</td>\n",
       "      <td>0.81</td>\n",
       "    </tr>\n",
       "    <tr>\n",
       "      <th>9</th>\n",
       "      <td>14.26</td>\n",
       "      <td>9.99</td>\n",
       "      <td>0.76</td>\n",
       "      <td>10</td>\n",
       "      <td>47.863940</td>\n",
       "      <td>106.779090</td>\n",
       "      <td>PM2.5</td>\n",
       "      <td>Нисэх</td>\n",
       "      <td>44.0</td>\n",
       "      <td>2015</td>\n",
       "      <td>9</td>\n",
       "      <td>36</td>\n",
       "      <td>1</td>\n",
       "      <td>1</td>\n",
       "      <td>244</td>\n",
       "      <td>False</td>\n",
       "      <td>True</td>\n",
       "      <td>False</td>\n",
       "      <td>False</td>\n",
       "      <td>False</td>\n",
       "      <td>False</td>\n",
       "      <td>1.441102e+09</td>\n",
       "      <td>31.0</td>\n",
       "      <td>13.3</td>\n",
       "      <td>10.18</td>\n",
       "      <td>0.81</td>\n",
       "      <td>26.0</td>\n",
       "      <td>13.3</td>\n",
       "      <td>10.18</td>\n",
       "      <td>0.81</td>\n",
       "      <td>31.0</td>\n",
       "      <td>13.3</td>\n",
       "      <td>10.18</td>\n",
       "      <td>0.81</td>\n",
       "    </tr>\n",
       "  </tbody>\n",
       "</table>\n",
       "</div>"
      ],
      "text/plain": [
       "   temperature  dewPoint  humidity  ...  temperature_3  dewPoint_3  humidity_3\n",
       "0        13.30     10.18      0.81  ...            NaN         NaN         NaN\n",
       "1        13.30     10.18      0.81  ...            NaN         NaN         NaN\n",
       "2        13.30     10.18      0.81  ...            NaN         NaN         NaN\n",
       "3        13.30     10.18      0.81  ...           13.3       10.18        0.81\n",
       "4        13.30     10.18      0.81  ...           13.3       10.18        0.81\n",
       "5        13.30     10.18      0.81  ...           13.3       10.18        0.81\n",
       "6        13.30     10.18      0.81  ...           13.3       10.18        0.81\n",
       "7        13.30     10.18      0.81  ...           13.3       10.18        0.81\n",
       "8        13.30     10.18      0.81  ...           13.3       10.18        0.81\n",
       "9        14.26      9.99      0.76  ...           13.3       10.18        0.81\n",
       "\n",
       "[10 rows x 34 columns]"
      ]
     },
     "execution_count": 214,
     "metadata": {
      "tags": []
     },
     "output_type": "execute_result"
    }
   ],
   "source": [
    "pm_train_merged_deleted.head(10)"
   ]
  },
  {
   "cell_type": "code",
   "execution_count": 218,
   "metadata": {
    "colab": {
     "base_uri": "https://localhost:8080/"
    },
    "executionInfo": {
     "elapsed": 1083,
     "status": "ok",
     "timestamp": 1619191571057,
     "user": {
      "displayName": "Nomuundalai Bat-Erdene",
      "photoUrl": "https://lh3.googleusercontent.com/a-/AOh14GjTrVVyaWMe-afuUQZ9ZkEfuWeyOU3LSoI-6_gzLR4=s64",
      "userId": "12706177033927725173"
     },
     "user_tz": -480
    },
    "id": "EMFZbdQiNbNR",
    "outputId": "d334e1e6-59d8-484e-fbc4-c11a1d5d7b41"
   },
   "outputs": [
    {
     "data": {
      "text/plain": [
       "(342, 36)"
      ]
     },
     "execution_count": 218,
     "metadata": {
      "tags": []
     },
     "output_type": "execute_result"
    }
   ],
   "source": [
    "pm_train_merged_deleted[pm_train_merged_deleted.isnull().any(axis=1)].shape\n"
   ]
  },
  {
   "cell_type": "code",
   "execution_count": 216,
   "metadata": {
    "executionInfo": {
     "elapsed": 1079,
     "status": "ok",
     "timestamp": 1619191566830,
     "user": {
      "displayName": "Nomuundalai Bat-Erdene",
      "photoUrl": "https://lh3.googleusercontent.com/a-/AOh14GjTrVVyaWMe-afuUQZ9ZkEfuWeyOU3LSoI-6_gzLR4=s64",
      "userId": "12706177033927725173"
     },
     "user_tz": -480
    },
    "id": "GdgrnSgITW1n"
   },
   "outputs": [],
   "source": [
    "pm_train_merged_deleted['rolling_mean'] = pm_train_merged_deleted['aqi'].rolling(window=7).mean()"
   ]
  },
  {
   "cell_type": "code",
   "execution_count": 217,
   "metadata": {
    "executionInfo": {
     "elapsed": 1586,
     "status": "ok",
     "timestamp": 1619191567742,
     "user": {
      "displayName": "Nomuundalai Bat-Erdene",
      "photoUrl": "https://lh3.googleusercontent.com/a-/AOh14GjTrVVyaWMe-afuUQZ9ZkEfuWeyOU3LSoI-6_gzLR4=s64",
      "userId": "12706177033927725173"
     },
     "user_tz": -480
    },
    "id": "f0O4CvslVQf1"
   },
   "outputs": [],
   "source": [
    "pm_train_merged_deleted['expanding_mean'] = pm_train_merged_deleted['aqi'].expanding(2).mean()"
   ]
  },
  {
   "cell_type": "code",
   "execution_count": 219,
   "metadata": {
    "executionInfo": {
     "elapsed": 956,
     "status": "ok",
     "timestamp": 1619191575287,
     "user": {
      "displayName": "Nomuundalai Bat-Erdene",
      "photoUrl": "https://lh3.googleusercontent.com/a-/AOh14GjTrVVyaWMe-afuUQZ9ZkEfuWeyOU3LSoI-6_gzLR4=s64",
      "userId": "12706177033927725173"
     },
     "user_tz": -480
    },
    "id": "IdtbFqpNIwiD"
   },
   "outputs": [],
   "source": [
    "pm_train_merged_deleted = pm_train_merged_deleted.dropna(axis=0).reset_index()"
   ]
  },
  {
   "cell_type": "code",
   "execution_count": 220,
   "metadata": {
    "colab": {
     "base_uri": "https://localhost:8080/"
    },
    "executionInfo": {
     "elapsed": 1132,
     "status": "ok",
     "timestamp": 1619191577065,
     "user": {
      "displayName": "Nomuundalai Bat-Erdene",
      "photoUrl": "https://lh3.googleusercontent.com/a-/AOh14GjTrVVyaWMe-afuUQZ9ZkEfuWeyOU3LSoI-6_gzLR4=s64",
      "userId": "12706177033927725173"
     },
     "user_tz": -480
    },
    "id": "ZmYzU2XFNp8g",
    "outputId": "62827a9b-1d72-4a97-8f7b-be24542540be"
   },
   "outputs": [
    {
     "data": {
      "text/plain": [
       "(0, 37)"
      ]
     },
     "execution_count": 220,
     "metadata": {
      "tags": []
     },
     "output_type": "execute_result"
    }
   ],
   "source": [
    "pm_train_merged_deleted[pm_train_merged_deleted.isnull().any(axis=1)].shape"
   ]
  },
  {
   "cell_type": "markdown",
   "metadata": {
    "id": "5V5yTtj9kl24"
   },
   "source": [
    "## Build Dataloaders"
   ]
  },
  {
   "cell_type": "markdown",
   "metadata": {
    "id": "-LkI_EuBVfat"
   },
   "source": [
    "### Just found out I didn't have to use test.csv at all. hha"
   ]
  },
  {
   "cell_type": "code",
   "execution_count": 221,
   "metadata": {
    "executionInfo": {
     "elapsed": 962,
     "status": "ok",
     "timestamp": 1619191582316,
     "user": {
      "displayName": "Nomuundalai Bat-Erdene",
      "photoUrl": "https://lh3.googleusercontent.com/a-/AOh14GjTrVVyaWMe-afuUQZ9ZkEfuWeyOU3LSoI-6_gzLR4=s64",
      "userId": "12706177033927725173"
     },
     "user_tz": -480
    },
    "id": "tXGMdWwMizNQ"
   },
   "outputs": [],
   "source": [
    "cont, cat = cont_cat_split(pm_train_merged_deleted, 1, dep_var='aqi')\n",
    "procs = [FillMissing, Categorify, Normalize]"
   ]
  },
  {
   "cell_type": "code",
   "execution_count": 222,
   "metadata": {
    "executionInfo": {
     "elapsed": 1388,
     "status": "ok",
     "timestamp": 1619191583138,
     "user": {
      "displayName": "Nomuundalai Bat-Erdene",
      "photoUrl": "https://lh3.googleusercontent.com/a-/AOh14GjTrVVyaWMe-afuUQZ9ZkEfuWeyOU3LSoI-6_gzLR4=s64",
      "userId": "12706177033927725173"
     },
     "user_tz": -480
    },
    "id": "ITu4c5YpR6DY"
   },
   "outputs": [],
   "source": [
    "valid_idx = pm_train_merged_deleted.sample(frac=0.2, random_state=42).index.values"
   ]
  },
  {
   "cell_type": "code",
   "execution_count": 223,
   "metadata": {
    "executionInfo": {
     "elapsed": 4678,
     "status": "ok",
     "timestamp": 1619191587530,
     "user": {
      "displayName": "Nomuundalai Bat-Erdene",
      "photoUrl": "https://lh3.googleusercontent.com/a-/AOh14GjTrVVyaWMe-afuUQZ9ZkEfuWeyOU3LSoI-6_gzLR4=s64",
      "userId": "12706177033927725173"
     },
     "user_tz": -480
    },
    "id": "TVN28F-il_SD"
   },
   "outputs": [],
   "source": [
    "dls = TabularDataLoaders.from_df(pm_train_merged_deleted, \n",
    "                                 path='.', \n",
    "                                 procs=procs, \n",
    "                                 cat_names=cat, \n",
    "                                 cont_names=cont, \n",
    "                                 y_names=\"aqi\", \n",
    "                                 valid_idx=valid_idx,\n",
    "                                 bs=64)"
   ]
  },
  {
   "cell_type": "code",
   "execution_count": 224,
   "metadata": {
    "colab": {
     "base_uri": "https://localhost:8080/",
     "height": 481
    },
    "executionInfo": {
     "elapsed": 1036,
     "status": "ok",
     "timestamp": 1619191589950,
     "user": {
      "displayName": "Nomuundalai Bat-Erdene",
      "photoUrl": "https://lh3.googleusercontent.com/a-/AOh14GjTrVVyaWMe-afuUQZ9ZkEfuWeyOU3LSoI-6_gzLR4=s64",
      "userId": "12706177033927725173"
     },
     "user_tz": -480
    },
    "id": "17fXIAzCobYO",
    "outputId": "5cf41422-7a00-4f44-adb5-f2902fe0069c"
   },
   "outputs": [
    {
     "data": {
      "text/html": [
       "<table border=\"1\" class=\"dataframe\">\n",
       "  <thead>\n",
       "    <tr style=\"text-align: right;\">\n",
       "      <th></th>\n",
       "      <th>type</th>\n",
       "      <th>station</th>\n",
       "      <th>Is_month_end</th>\n",
       "      <th>Is_month_start</th>\n",
       "      <th>Is_quarter_end</th>\n",
       "      <th>Is_quarter_start</th>\n",
       "      <th>Is_year_end</th>\n",
       "      <th>Is_year_start</th>\n",
       "      <th>index</th>\n",
       "      <th>temperature</th>\n",
       "      <th>dewPoint</th>\n",
       "      <th>humidity</th>\n",
       "      <th>ID</th>\n",
       "      <th>latitude</th>\n",
       "      <th>longitude</th>\n",
       "      <th>Year</th>\n",
       "      <th>Month</th>\n",
       "      <th>Week</th>\n",
       "      <th>Day</th>\n",
       "      <th>Dayofweek</th>\n",
       "      <th>Dayofyear</th>\n",
       "      <th>Elapsed</th>\n",
       "      <th>aqi_1</th>\n",
       "      <th>temperature_1</th>\n",
       "      <th>dewPoint_1</th>\n",
       "      <th>humidity_1</th>\n",
       "      <th>aqi_2</th>\n",
       "      <th>temperature_2</th>\n",
       "      <th>dewPoint_2</th>\n",
       "      <th>humidity_2</th>\n",
       "      <th>aqi_3</th>\n",
       "      <th>temperature_3</th>\n",
       "      <th>dewPoint_3</th>\n",
       "      <th>humidity_3</th>\n",
       "      <th>rolling_mean</th>\n",
       "      <th>expanding_mean</th>\n",
       "      <th>aqi</th>\n",
       "    </tr>\n",
       "  </thead>\n",
       "  <tbody>\n",
       "    <tr>\n",
       "      <th>0</th>\n",
       "      <td>PM10</td>\n",
       "      <td>МҮОНРТ</td>\n",
       "      <td>False</td>\n",
       "      <td>False</td>\n",
       "      <td>False</td>\n",
       "      <td>False</td>\n",
       "      <td>False</td>\n",
       "      <td>False</td>\n",
       "      <td>27379.998492</td>\n",
       "      <td>-17.73</td>\n",
       "      <td>-20.990000</td>\n",
       "      <td>0.76</td>\n",
       "      <td>27380.998492</td>\n",
       "      <td>47.929733</td>\n",
       "      <td>106.888626</td>\n",
       "      <td>2015.0</td>\n",
       "      <td>12.0</td>\n",
       "      <td>49.000000</td>\n",
       "      <td>3.0</td>\n",
       "      <td>3.000000e+00</td>\n",
       "      <td>337.000001</td>\n",
       "      <td>1.449169e+09</td>\n",
       "      <td>72.999999</td>\n",
       "      <td>-17.729999</td>\n",
       "      <td>-20.989999</td>\n",
       "      <td>0.76</td>\n",
       "      <td>79.000001</td>\n",
       "      <td>-17.729999</td>\n",
       "      <td>-20.990000</td>\n",
       "      <td>0.76</td>\n",
       "      <td>114.000000</td>\n",
       "      <td>-17.730000</td>\n",
       "      <td>-20.990000</td>\n",
       "      <td>0.76</td>\n",
       "      <td>79.428574</td>\n",
       "      <td>102.949379</td>\n",
       "      <td>78.0</td>\n",
       "    </tr>\n",
       "    <tr>\n",
       "      <th>1</th>\n",
       "      <td>PM2.5</td>\n",
       "      <td>Баруун 4 зам</td>\n",
       "      <td>False</td>\n",
       "      <td>False</td>\n",
       "      <td>False</td>\n",
       "      <td>False</td>\n",
       "      <td>False</td>\n",
       "      <td>False</td>\n",
       "      <td>181333.000209</td>\n",
       "      <td>-20.36</td>\n",
       "      <td>-22.729999</td>\n",
       "      <td>0.81</td>\n",
       "      <td>181334.000209</td>\n",
       "      <td>47.915382</td>\n",
       "      <td>106.894196</td>\n",
       "      <td>2017.0</td>\n",
       "      <td>2.0</td>\n",
       "      <td>8.000000</td>\n",
       "      <td>25.0</td>\n",
       "      <td>5.000000e+00</td>\n",
       "      <td>56.000000</td>\n",
       "      <td>1.487999e+09</td>\n",
       "      <td>307.000006</td>\n",
       "      <td>-20.360001</td>\n",
       "      <td>-22.730000</td>\n",
       "      <td>0.81</td>\n",
       "      <td>299.000005</td>\n",
       "      <td>-20.360001</td>\n",
       "      <td>-22.730000</td>\n",
       "      <td>0.81</td>\n",
       "      <td>322.000003</td>\n",
       "      <td>-20.360001</td>\n",
       "      <td>-22.730000</td>\n",
       "      <td>0.81</td>\n",
       "      <td>268.857148</td>\n",
       "      <td>129.176864</td>\n",
       "      <td>302.0</td>\n",
       "    </tr>\n",
       "    <tr>\n",
       "      <th>2</th>\n",
       "      <td>PM10</td>\n",
       "      <td>Нисэх</td>\n",
       "      <td>False</td>\n",
       "      <td>False</td>\n",
       "      <td>False</td>\n",
       "      <td>False</td>\n",
       "      <td>False</td>\n",
       "      <td>False</td>\n",
       "      <td>179690.999720</td>\n",
       "      <td>-10.75</td>\n",
       "      <td>-14.980000</td>\n",
       "      <td>0.71</td>\n",
       "      <td>179691.999720</td>\n",
       "      <td>47.863941</td>\n",
       "      <td>106.779091</td>\n",
       "      <td>2017.0</td>\n",
       "      <td>2.0</td>\n",
       "      <td>8.000000</td>\n",
       "      <td>21.0</td>\n",
       "      <td>1.000000e+00</td>\n",
       "      <td>51.999995</td>\n",
       "      <td>1.487671e+09</td>\n",
       "      <td>137.999999</td>\n",
       "      <td>-10.750000</td>\n",
       "      <td>-14.980000</td>\n",
       "      <td>0.71</td>\n",
       "      <td>213.000004</td>\n",
       "      <td>-10.750000</td>\n",
       "      <td>-14.979999</td>\n",
       "      <td>0.71</td>\n",
       "      <td>139.999999</td>\n",
       "      <td>-10.750000</td>\n",
       "      <td>-14.980000</td>\n",
       "      <td>0.71</td>\n",
       "      <td>151.000001</td>\n",
       "      <td>129.042572</td>\n",
       "      <td>138.0</td>\n",
       "    </tr>\n",
       "    <tr>\n",
       "      <th>3</th>\n",
       "      <td>PM10</td>\n",
       "      <td>Амгалан</td>\n",
       "      <td>False</td>\n",
       "      <td>False</td>\n",
       "      <td>False</td>\n",
       "      <td>False</td>\n",
       "      <td>False</td>\n",
       "      <td>False</td>\n",
       "      <td>205159.000498</td>\n",
       "      <td>3.29</td>\n",
       "      <td>-12.380000</td>\n",
       "      <td>0.31</td>\n",
       "      <td>205160.000498</td>\n",
       "      <td>47.913429</td>\n",
       "      <td>106.997910</td>\n",
       "      <td>2017.0</td>\n",
       "      <td>4.0</td>\n",
       "      <td>17.000000</td>\n",
       "      <td>27.0</td>\n",
       "      <td>3.000000e+00</td>\n",
       "      <td>117.000003</td>\n",
       "      <td>1.493280e+09</td>\n",
       "      <td>135.000000</td>\n",
       "      <td>3.290000</td>\n",
       "      <td>-12.380000</td>\n",
       "      <td>0.31</td>\n",
       "      <td>138.000001</td>\n",
       "      <td>3.290000</td>\n",
       "      <td>-12.380000</td>\n",
       "      <td>0.31</td>\n",
       "      <td>128.000000</td>\n",
       "      <td>3.290000</td>\n",
       "      <td>-12.380000</td>\n",
       "      <td>0.31</td>\n",
       "      <td>127.571426</td>\n",
       "      <td>124.978455</td>\n",
       "      <td>130.0</td>\n",
       "    </tr>\n",
       "    <tr>\n",
       "      <th>4</th>\n",
       "      <td>PM2.5</td>\n",
       "      <td>Толгойт</td>\n",
       "      <td>False</td>\n",
       "      <td>False</td>\n",
       "      <td>False</td>\n",
       "      <td>False</td>\n",
       "      <td>False</td>\n",
       "      <td>False</td>\n",
       "      <td>187728.000435</td>\n",
       "      <td>-4.73</td>\n",
       "      <td>-12.000000</td>\n",
       "      <td>0.57</td>\n",
       "      <td>187729.000435</td>\n",
       "      <td>47.922497</td>\n",
       "      <td>106.794807</td>\n",
       "      <td>2017.0</td>\n",
       "      <td>3.0</td>\n",
       "      <td>9.999999</td>\n",
       "      <td>12.0</td>\n",
       "      <td>6.000000e+00</td>\n",
       "      <td>70.999999</td>\n",
       "      <td>1.489324e+09</td>\n",
       "      <td>108.000000</td>\n",
       "      <td>-4.730000</td>\n",
       "      <td>-12.000000</td>\n",
       "      <td>0.57</td>\n",
       "      <td>117.000000</td>\n",
       "      <td>-4.730000</td>\n",
       "      <td>-12.000000</td>\n",
       "      <td>0.57</td>\n",
       "      <td>105.000000</td>\n",
       "      <td>-4.730000</td>\n",
       "      <td>-12.000000</td>\n",
       "      <td>0.57</td>\n",
       "      <td>108.857140</td>\n",
       "      <td>128.001312</td>\n",
       "      <td>117.0</td>\n",
       "    </tr>\n",
       "    <tr>\n",
       "      <th>5</th>\n",
       "      <td>PM2.5</td>\n",
       "      <td>Бөхийн өргөө</td>\n",
       "      <td>False</td>\n",
       "      <td>False</td>\n",
       "      <td>False</td>\n",
       "      <td>False</td>\n",
       "      <td>False</td>\n",
       "      <td>False</td>\n",
       "      <td>239144.001721</td>\n",
       "      <td>-0.75</td>\n",
       "      <td>-2.000000</td>\n",
       "      <td>0.91</td>\n",
       "      <td>239145.001721</td>\n",
       "      <td>47.917606</td>\n",
       "      <td>106.937363</td>\n",
       "      <td>2017.0</td>\n",
       "      <td>9.0</td>\n",
       "      <td>37.000000</td>\n",
       "      <td>16.0</td>\n",
       "      <td>5.000000e+00</td>\n",
       "      <td>259.000002</td>\n",
       "      <td>1.505545e+09</td>\n",
       "      <td>90.000000</td>\n",
       "      <td>-0.750000</td>\n",
       "      <td>-2.000000</td>\n",
       "      <td>0.91</td>\n",
       "      <td>106.000000</td>\n",
       "      <td>-0.750000</td>\n",
       "      <td>-2.000000</td>\n",
       "      <td>0.91</td>\n",
       "      <td>114.000000</td>\n",
       "      <td>0.270000</td>\n",
       "      <td>-1.010000</td>\n",
       "      <td>0.91</td>\n",
       "      <td>81.142859</td>\n",
       "      <td>117.044052</td>\n",
       "      <td>14.0</td>\n",
       "    </tr>\n",
       "    <tr>\n",
       "      <th>6</th>\n",
       "      <td>PM2.5</td>\n",
       "      <td>АНУ-ын Элчин сайдын яам</td>\n",
       "      <td>False</td>\n",
       "      <td>False</td>\n",
       "      <td>False</td>\n",
       "      <td>False</td>\n",
       "      <td>False</td>\n",
       "      <td>False</td>\n",
       "      <td>211534.000151</td>\n",
       "      <td>4.53</td>\n",
       "      <td>-11.720000</td>\n",
       "      <td>0.30</td>\n",
       "      <td>211535.000151</td>\n",
       "      <td>47.928387</td>\n",
       "      <td>106.929466</td>\n",
       "      <td>2017.0</td>\n",
       "      <td>5.0</td>\n",
       "      <td>19.000000</td>\n",
       "      <td>12.0</td>\n",
       "      <td>4.000000e+00</td>\n",
       "      <td>131.999999</td>\n",
       "      <td>1.494630e+09</td>\n",
       "      <td>119.000000</td>\n",
       "      <td>4.530000</td>\n",
       "      <td>-11.720000</td>\n",
       "      <td>0.30</td>\n",
       "      <td>117.000000</td>\n",
       "      <td>4.530000</td>\n",
       "      <td>-11.720000</td>\n",
       "      <td>0.30</td>\n",
       "      <td>114.000000</td>\n",
       "      <td>4.530000</td>\n",
       "      <td>-11.720000</td>\n",
       "      <td>0.30</td>\n",
       "      <td>95.571427</td>\n",
       "      <td>123.862778</td>\n",
       "      <td>27.0</td>\n",
       "    </tr>\n",
       "    <tr>\n",
       "      <th>7</th>\n",
       "      <td>PM2.5</td>\n",
       "      <td>Нисэх</td>\n",
       "      <td>False</td>\n",
       "      <td>False</td>\n",
       "      <td>False</td>\n",
       "      <td>False</td>\n",
       "      <td>False</td>\n",
       "      <td>False</td>\n",
       "      <td>243198.999408</td>\n",
       "      <td>12.26</td>\n",
       "      <td>-8.980000</td>\n",
       "      <td>0.22</td>\n",
       "      <td>243199.999408</td>\n",
       "      <td>47.863941</td>\n",
       "      <td>106.779091</td>\n",
       "      <td>2017.0</td>\n",
       "      <td>10.0</td>\n",
       "      <td>40.000000</td>\n",
       "      <td>3.0</td>\n",
       "      <td>1.000000e+00</td>\n",
       "      <td>275.999997</td>\n",
       "      <td>1.507046e+09</td>\n",
       "      <td>30.000001</td>\n",
       "      <td>12.260000</td>\n",
       "      <td>-8.980000</td>\n",
       "      <td>0.22</td>\n",
       "      <td>30.999999</td>\n",
       "      <td>12.260000</td>\n",
       "      <td>-8.980000</td>\n",
       "      <td>0.22</td>\n",
       "      <td>29.000001</td>\n",
       "      <td>12.260000</td>\n",
       "      <td>-8.980000</td>\n",
       "      <td>0.22</td>\n",
       "      <td>64.285713</td>\n",
       "      <td>116.214783</td>\n",
       "      <td>29.0</td>\n",
       "    </tr>\n",
       "    <tr>\n",
       "      <th>8</th>\n",
       "      <td>PM2.5</td>\n",
       "      <td>МҮОНРТ</td>\n",
       "      <td>False</td>\n",
       "      <td>False</td>\n",
       "      <td>False</td>\n",
       "      <td>False</td>\n",
       "      <td>False</td>\n",
       "      <td>False</td>\n",
       "      <td>177729.999767</td>\n",
       "      <td>-14.72</td>\n",
       "      <td>-19.010000</td>\n",
       "      <td>0.70</td>\n",
       "      <td>177730.999767</td>\n",
       "      <td>47.929733</td>\n",
       "      <td>106.888626</td>\n",
       "      <td>2017.0</td>\n",
       "      <td>2.0</td>\n",
       "      <td>7.000000</td>\n",
       "      <td>16.0</td>\n",
       "      <td>3.000000e+00</td>\n",
       "      <td>46.999995</td>\n",
       "      <td>1.487257e+09</td>\n",
       "      <td>105.000000</td>\n",
       "      <td>-14.720000</td>\n",
       "      <td>-19.010000</td>\n",
       "      <td>0.70</td>\n",
       "      <td>127.000000</td>\n",
       "      <td>-15.500000</td>\n",
       "      <td>-19.700001</td>\n",
       "      <td>0.70</td>\n",
       "      <td>123.000000</td>\n",
       "      <td>-15.500000</td>\n",
       "      <td>-19.700001</td>\n",
       "      <td>0.70</td>\n",
       "      <td>118.000000</td>\n",
       "      <td>129.135803</td>\n",
       "      <td>104.0</td>\n",
       "    </tr>\n",
       "    <tr>\n",
       "      <th>9</th>\n",
       "      <td>PM10</td>\n",
       "      <td>МҮОНРТ</td>\n",
       "      <td>False</td>\n",
       "      <td>False</td>\n",
       "      <td>False</td>\n",
       "      <td>False</td>\n",
       "      <td>False</td>\n",
       "      <td>False</td>\n",
       "      <td>298147.997729</td>\n",
       "      <td>19.27</td>\n",
       "      <td>0.010000</td>\n",
       "      <td>0.27</td>\n",
       "      <td>298148.997729</td>\n",
       "      <td>47.929733</td>\n",
       "      <td>106.888626</td>\n",
       "      <td>2018.0</td>\n",
       "      <td>6.0</td>\n",
       "      <td>24.000000</td>\n",
       "      <td>11.0</td>\n",
       "      <td>-4.492857e-08</td>\n",
       "      <td>162.000000</td>\n",
       "      <td>1.528744e+09</td>\n",
       "      <td>19.000000</td>\n",
       "      <td>19.270001</td>\n",
       "      <td>0.010000</td>\n",
       "      <td>0.27</td>\n",
       "      <td>20.000003</td>\n",
       "      <td>19.270000</td>\n",
       "      <td>0.010000</td>\n",
       "      <td>0.27</td>\n",
       "      <td>115.000000</td>\n",
       "      <td>19.270001</td>\n",
       "      <td>0.010000</td>\n",
       "      <td>0.27</td>\n",
       "      <td>72.857140</td>\n",
       "      <td>117.926247</td>\n",
       "      <td>111.0</td>\n",
       "    </tr>\n",
       "  </tbody>\n",
       "</table>"
      ],
      "text/plain": [
       "<IPython.core.display.HTML object>"
      ]
     },
     "metadata": {
      "tags": []
     },
     "output_type": "display_data"
    }
   ],
   "source": [
    "dls.show_batch()"
   ]
  },
  {
   "cell_type": "markdown",
   "metadata": {
    "id": "IseYUIlATYzK"
   },
   "source": [
    "## Learn"
   ]
  },
  {
   "cell_type": "code",
   "execution_count": 257,
   "metadata": {
    "executionInfo": {
     "elapsed": 1266,
     "status": "ok",
     "timestamp": 1619192690919,
     "user": {
      "displayName": "Nomuundalai Bat-Erdene",
      "photoUrl": "https://lh3.googleusercontent.com/a-/AOh14GjTrVVyaWMe-afuUQZ9ZkEfuWeyOU3LSoI-6_gzLR4=s64",
      "userId": "12706177033927725173"
     },
     "user_tz": -480
    },
    "id": "LiHuYz9ZYJUg"
   },
   "outputs": [],
   "source": [
    "learn = tabular_learner(dls, metrics=rmse, layers=[500,250])"
   ]
  },
  {
   "cell_type": "code",
   "execution_count": 258,
   "metadata": {
    "colab": {
     "base_uri": "https://localhost:8080/",
     "height": 286
    },
    "executionInfo": {
     "elapsed": 3516,
     "status": "ok",
     "timestamp": 1619192693182,
     "user": {
      "displayName": "Nomuundalai Bat-Erdene",
      "photoUrl": "https://lh3.googleusercontent.com/a-/AOh14GjTrVVyaWMe-afuUQZ9ZkEfuWeyOU3LSoI-6_gzLR4=s64",
      "userId": "12706177033927725173"
     },
     "user_tz": -480
    },
    "id": "1IYJA_FRYJeq",
    "outputId": "9936e3e3-3063-43cb-d979-ac5d6535821c"
   },
   "outputs": [
    {
     "data": {
      "text/html": [],
      "text/plain": [
       "<IPython.core.display.HTML object>"
      ]
     },
     "metadata": {
      "tags": []
     },
     "output_type": "display_data"
    },
    {
     "data": {
      "image/png": "[encoded data removed]",
      "text/plain": [
       "<Figure size 432x288 with 1 Axes>"
      ]
     },
     "metadata": {
      "needs_background": "light",
      "tags": []
     },
     "output_type": "display_data"
    }
   ],
   "source": [
    "lr_min, lr_steep = learn.lr_find()"
   ]
  },
  {
   "cell_type": "code",
   "execution_count": 259,
   "metadata": {
    "colab": {
     "base_uri": "https://localhost:8080/",
     "height": 204
    },
    "executionInfo": {
     "elapsed": 337516,
     "status": "ok",
     "timestamp": 1619193033382,
     "user": {
      "displayName": "Nomuundalai Bat-Erdene",
      "photoUrl": "https://lh3.googleusercontent.com/a-/AOh14GjTrVVyaWMe-afuUQZ9ZkEfuWeyOU3LSoI-6_gzLR4=s64",
      "userId": "12706177033927725173"
     },
     "user_tz": -480
    },
    "id": "7ShtX6u3YJny",
    "outputId": "655ea7c2-2ebe-4758-def4-890854ae9009"
   },
   "outputs": [
    {
     "data": {
      "text/html": [
       "<table border=\"1\" class=\"dataframe\">\n",
       "  <thead>\n",
       "    <tr style=\"text-align: left;\">\n",
       "      <th>epoch</th>\n",
       "      <th>train_loss</th>\n",
       "      <th>valid_loss</th>\n",
       "      <th>_rmse</th>\n",
       "      <th>time</th>\n",
       "    </tr>\n",
       "  </thead>\n",
       "  <tbody>\n",
       "    <tr>\n",
       "      <td>0</td>\n",
       "      <td>1146.134033</td>\n",
       "      <td>2650.678223</td>\n",
       "      <td>51.484734</td>\n",
       "      <td>01:06</td>\n",
       "    </tr>\n",
       "    <tr>\n",
       "      <td>1</td>\n",
       "      <td>1135.422119</td>\n",
       "      <td>1014.868103</td>\n",
       "      <td>31.856983</td>\n",
       "      <td>01:05</td>\n",
       "    </tr>\n",
       "    <tr>\n",
       "      <td>2</td>\n",
       "      <td>1002.048401</td>\n",
       "      <td>833.667908</td>\n",
       "      <td>28.873314</td>\n",
       "      <td>01:05</td>\n",
       "    </tr>\n",
       "    <tr>\n",
       "      <td>3</td>\n",
       "      <td>856.870605</td>\n",
       "      <td>1132.798462</td>\n",
       "      <td>33.657078</td>\n",
       "      <td>01:06</td>\n",
       "    </tr>\n",
       "    <tr>\n",
       "      <td>4</td>\n",
       "      <td>756.144714</td>\n",
       "      <td>765.466370</td>\n",
       "      <td>27.667061</td>\n",
       "      <td>01:11</td>\n",
       "    </tr>\n",
       "  </tbody>\n",
       "</table>"
      ],
      "text/plain": [
       "<IPython.core.display.HTML object>"
      ]
     },
     "metadata": {
      "tags": []
     },
     "output_type": "display_data"
    }
   ],
   "source": [
    "learn.fit_one_cycle(5, lr_min)"
   ]
  },
  {
   "cell_type": "code",
   "execution_count": 233,
   "metadata": {
    "executionInfo": {
     "elapsed": 1111,
     "status": "ok",
     "timestamp": 1619191785123,
     "user": {
      "displayName": "Nomuundalai Bat-Erdene",
      "photoUrl": "https://lh3.googleusercontent.com/a-/AOh14GjTrVVyaWMe-afuUQZ9ZkEfuWeyOU3LSoI-6_gzLR4=s64",
      "userId": "12706177033927725173"
     },
     "user_tz": -480
    },
    "id": "nWKdT5mVV3kd"
   },
   "outputs": [],
   "source": [
    "learn = tabular_learner(dls, metrics=rmse, layers=[200,100])"
   ]
  },
  {
   "cell_type": "code",
   "execution_count": 237,
   "metadata": {
    "colab": {
     "base_uri": "https://localhost:8080/",
     "height": 283
    },
    "executionInfo": {
     "elapsed": 3492,
     "status": "ok",
     "timestamp": 1619191808442,
     "user": {
      "displayName": "Nomuundalai Bat-Erdene",
      "photoUrl": "https://lh3.googleusercontent.com/a-/AOh14GjTrVVyaWMe-afuUQZ9ZkEfuWeyOU3LSoI-6_gzLR4=s64",
      "userId": "12706177033927725173"
     },
     "user_tz": -480
    },
    "id": "H7_M8LMkV3sP",
    "outputId": "ccdc3479-e9ea-4610-fca7-0dc3acb1272d"
   },
   "outputs": [
    {
     "data": {
      "text/html": [],
      "text/plain": [
       "<IPython.core.display.HTML object>"
      ]
     },
     "metadata": {
      "tags": []
     },
     "output_type": "display_data"
    },
    {
     "data": {
      "image/png": "[encoded data removed]",
      "text/plain": [
       "<Figure size 432x288 with 1 Axes>"
      ]
     },
     "metadata": {
      "needs_background": "light",
      "tags": []
     },
     "output_type": "display_data"
    }
   ],
   "source": [
    "lr_min, lr_steep = learn.lr_find()"
   ]
  },
  {
   "cell_type": "code",
   "execution_count": 238,
   "metadata": {
    "colab": {
     "base_uri": "https://localhost:8080/",
     "height": 204
    },
    "executionInfo": {
     "elapsed": 328547,
     "status": "ok",
     "timestamp": 1619192140476,
     "user": {
      "displayName": "Nomuundalai Bat-Erdene",
      "photoUrl": "https://lh3.googleusercontent.com/a-/AOh14GjTrVVyaWMe-afuUQZ9ZkEfuWeyOU3LSoI-6_gzLR4=s64",
      "userId": "12706177033927725173"
     },
     "user_tz": -480
    },
    "id": "PZLGvCzwV3y2",
    "outputId": "fb5e5179-bc9e-4637-89d3-2a6d7e3a0159"
   },
   "outputs": [
    {
     "data": {
      "text/html": [
       "<table border=\"1\" class=\"dataframe\">\n",
       "  <thead>\n",
       "    <tr style=\"text-align: left;\">\n",
       "      <th>epoch</th>\n",
       "      <th>train_loss</th>\n",
       "      <th>valid_loss</th>\n",
       "      <th>_rmse</th>\n",
       "      <th>time</th>\n",
       "    </tr>\n",
       "  </thead>\n",
       "  <tbody>\n",
       "    <tr>\n",
       "      <td>0</td>\n",
       "      <td>1263.102051</td>\n",
       "      <td>12578.156250</td>\n",
       "      <td>112.152351</td>\n",
       "      <td>01:05</td>\n",
       "    </tr>\n",
       "    <tr>\n",
       "      <td>1</td>\n",
       "      <td>1213.662964</td>\n",
       "      <td>1133.598389</td>\n",
       "      <td>33.668953</td>\n",
       "      <td>01:04</td>\n",
       "    </tr>\n",
       "    <tr>\n",
       "      <td>2</td>\n",
       "      <td>1140.598755</td>\n",
       "      <td>1669.350708</td>\n",
       "      <td>40.857666</td>\n",
       "      <td>01:05</td>\n",
       "    </tr>\n",
       "    <tr>\n",
       "      <td>3</td>\n",
       "      <td>1044.640747</td>\n",
       "      <td>947.846436</td>\n",
       "      <td>30.787113</td>\n",
       "      <td>01:05</td>\n",
       "    </tr>\n",
       "    <tr>\n",
       "      <td>4</td>\n",
       "      <td>830.435913</td>\n",
       "      <td>767.133240</td>\n",
       "      <td>27.697172</td>\n",
       "      <td>01:06</td>\n",
       "    </tr>\n",
       "  </tbody>\n",
       "</table>"
      ],
      "text/plain": [
       "<IPython.core.display.HTML object>"
      ]
     },
     "metadata": {
      "tags": []
     },
     "output_type": "display_data"
    }
   ],
   "source": [
    "learn.fit_one_cycle(5, lr_min)"
   ]
  },
  {
   "cell_type": "code",
   "execution_count": null,
   "metadata": {
    "id": "s3Aw490rlYLN"
   },
   "outputs": [],
   "source": []
  }
 ],
 "metadata": {
  "accelerator": "GPU",
  "colab": {
   "authorship_tag": "ABX9TyNh0vam+bhs7YxlMxy9u2j6",
   "mount_file_id": "1vgsnkTJ0Kih4UE3mVfnNlIrJWVtqBcuU",
   "name": "PSET5.ipynb",
   "provenance": [],
   "toc_visible": true
  },
  "kernelspec": {
   "display_name": "Python 3",
   "language": "python",
   "name": "python3"
  },
  "language_info": {
   "codemirror_mode": {
    "name": "ipython",
    "version": 3
   },
   "file_extension": ".py",
   "mimetype": "text/x-python",
   "name": "python",
   "nbconvert_exporter": "python",
   "pygments_lexer": "ipython3",
   "version": "3.8.3"
  }
 },
 "nbformat": 4,
 "nbformat_minor": 4
}
